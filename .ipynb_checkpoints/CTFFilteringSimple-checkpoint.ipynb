{
 "cells": [
  {
   "cell_type": "code",
   "execution_count": 5,
   "metadata": {},
   "outputs": [
    {
     "name": "stdout",
     "output_type": "stream",
     "text": [
      "\n",
      "Import Complete\n",
      "\n"
     ]
    }
   ],
   "source": [
    "'''This cell imports pandas and the CSV file contiang the data that needs to be sorted and stores it as 'ctf' \n",
    "\n",
    "Genral note: This note book was created as a simplified verion of the filter interface notebook and carried over variable names from that project '''\n",
    "\n",
    "import pandas as pd\n",
    "\n",
    "\n",
    "pd.set_option(\"display.max_rows\", None, \"display.max_columns\", None)\n",
    "\n",
    "ctf = pd.read_csv ('coarse_table_full.csv')\n",
    "\n",
    "        \n",
    "print (\"\\nImport Complete\\n\")"
   ]
  },
  {
   "cell_type": "code",
   "execution_count": 6,
   "metadata": {},
   "outputs": [],
   "source": [
    "'''This cell allows for easy modification to the search parameters category (Cat1) and search term (searchTerm1), which line 8 uses as inputs to filter ctf creating a new array containing only the indexes that meet the parameters called ctf2. \n",
    "\n",
    "In the orignal porject the code would promt the user to input these values'''\n",
    "type(ctf)\n",
    "\n",
    "Cat1 = \"Class\"#input category. this will work will work for both the string coloumns, Name and Class.   \n",
    "\n",
    "searchTerm1 = \"EM|Cool\"\n",
    "\n",
    "ctf2 = ctf.loc[ctf[Cat1].str.contains(searchTerm1)]"
   ]
  },
  {
   "cell_type": "code",
   "execution_count": 7,
   "metadata": {},
   "outputs": [],
   "source": [
    "\n",
    "\n",
    "minDec = -25.0 # input minimum declnation your telescope can observe using the Apache Point Observatory \n",
    "\n",
    "ctf3 = (ctf2.Dec >= minDec) #generate a array of which indexes meet the boleean conditon called ctf3 with index numbers from ctf2 \n",
    "\n",
    "\n",
    "#ctf3[ctf3].index.values\n",
    "targetStarsIndex = [*filter(ctf3.get, ctf3.index)]"
   ]
  },
  {
   "cell_type": "code",
   "execution_count": 8,
   "metadata": {},
   "outputs": [
    {
     "name": "stdout",
     "output_type": "stream",
     "text": [
      "   Unnamed: 0                      Name      RA    Dec Class   Gmag\n",
      "0         413           TYC 3740-1791-1   67.04  56.98    EM  10.76\n",
      "1        2494  WISE J185608.58-163255.1  284.04 -16.55  Cool  12.04\n",
      "2        2516  WISE J194127.64+385155.3  295.37  38.87  Cool  12.33\n",
      "3        2525            TYC 2670-214-1  299.61  31.81    EM  11.34\n"
     ]
    },
    {
     "data": {
      "text/plain": [
       "pandas.core.frame.DataFrame"
      ]
     },
     "execution_count": 8,
     "metadata": {},
     "output_type": "execute_result"
    }
   ],
   "source": [
    "ctfFinal = ctf2.loc[targetStarsIndex]\n",
    "\n",
    "ctfFinal.to_csv('list_of_viable_stars_simplemethod.csv', float_format='%.2f', na_rep=\"NAN!\")\n",
    "\n",
    "tsi = pd.read_csv ('list_of_viable_stars_simplemethod.csv')\n",
    "print (tsi)\n",
    "type (tsi)"
   ]
  }
 ],
 "metadata": {
  "kernelspec": {
   "display_name": "Python 3",
   "language": "python",
   "name": "python3"
  },
  "language_info": {
   "codemirror_mode": {
    "name": "ipython",
    "version": 3
   },
   "file_extension": ".py",
   "mimetype": "text/x-python",
   "name": "python",
   "nbconvert_exporter": "python",
   "pygments_lexer": "ipython3",
   "version": "3.7.8"
  }
 },
 "nbformat": 4,
 "nbformat_minor": 4
}
