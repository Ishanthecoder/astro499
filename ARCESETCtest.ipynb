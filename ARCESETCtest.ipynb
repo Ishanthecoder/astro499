{
 "cells": [
  {
   "cell_type": "code",
   "execution_count": null,
   "metadata": {
    "scrolled": true
   },
   "outputs": [],
   "source": [
    "import matplotlib.pyplot as plt\n",
    "import arcesetc\n",
    "import astropy.units as u\n",
    "from arcesetc import plot_order_sn\n",
    "from arcesetc import signal_to_noise_to_exp_time\n",
    "import pandas as pd\n",
    "import numpy as np\n",
    "import math\n",
    "import time\n",
    "import sys\n",
    "from IPython.display import display \n",
    "\n",
    "pd.set_option(\"display.max_rows\", None, \"display.max_columns\", None)\n",
    "\n",
    "tsl = pd.read_csv ('Target_Stars_from_Interface_Code') \n",
    "\n",
    "type(tsl)\n",
    "    \n",
    "print (\"\\nImport Complete\\nSet Up Complete\\nRunning Test\")\n",
    "sptype = 'M0V'\n",
    "wavelength = 6562 * u.Angstrom\n",
    "signal_to_noise = 30\n",
    "V = 12\n",
    "exp_time = (signal_to_noise_to_exp_time(sptype, wavelength, V,signal_to_noise))\n",
    "print(exp_time)\n",
    "#fig, ax, exp_time = plot_order_sn(sptype, wavelength, V, 5) \n",
    "#plt.show() \n",
    "print(\"Test complete\")"
   ]
  },
  {
   "cell_type": "code",
   "execution_count": null,
   "metadata": {},
   "outputs": [],
   "source": [
    "from arcesetc import __file__\n",
    "print(__file__)"
   ]
  },
  {
   "cell_type": "code",
   "execution_count": null,
   "metadata": {},
   "outputs": [],
   "source": []
  }
 ],
 "metadata": {
  "kernelspec": {
   "display_name": "Python 3",
   "language": "python",
   "name": "python3"
  },
  "language_info": {
   "codemirror_mode": {
    "name": "ipython",
    "version": 3
   },
   "file_extension": ".py",
   "mimetype": "text/x-python",
   "name": "python",
   "nbconvert_exporter": "python",
   "pygments_lexer": "ipython3",
   "version": "3.7.3"
  }
 },
 "nbformat": 4,
 "nbformat_minor": 4
}
