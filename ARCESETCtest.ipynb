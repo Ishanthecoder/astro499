{
 "cells": [
  {
   "cell_type": "code",
   "execution_count": 4,
   "metadata": {
    "scrolled": true
   },
   "outputs": [
    {
     "name": "stdout",
     "output_type": "stream",
     "text": [
      "642.1144400392153 s\n"
     ]
    }
   ],
   "source": [
    "import matplotlib.pyplot as plt\n",
    "import arcesetc\n",
    "import astropy.units as u\n",
    "from arcesetc import plot_order_sn\n",
    "from arcesetc import signal_to_noise_to_exp_time\n",
    "sptype = 'M0V'\n",
    "wavelength = 6562 * u.Angstrom\n",
    "signal_to_noise = 30\n",
    "V = 12\n",
    "print(signal_to_noise_to_exp_time(sptype, wavelength, V,signal_to_noise))\n",
    "fig, ax, exp_time = plot_order_sn(sptype, wavelengt, V, 5) \n",
    " plt.show() "
   ]
  },
  {
   "cell_type": "code",
   "execution_count": 5,
   "metadata": {},
   "outputs": [
    {
     "name": "stdout",
     "output_type": "stream",
     "text": [
      "/home/ishanthecoder/snap/jupyter/common/lib/python3.7/site-packages/arcesetc/__init__.py\n"
     ]
    }
   ],
   "source": [
    "from arcesetc import __file__\n",
    "print(__file__)"
   ]
  },
  {
   "cell_type": "code",
   "execution_count": null,
   "metadata": {},
   "outputs": [],
   "source": []
  }
 ],
 "metadata": {
  "kernelspec": {
   "display_name": "Python 3",
   "language": "python",
   "name": "python3"
  },
  "language_info": {
   "codemirror_mode": {
    "name": "ipython",
    "version": 3
   },
   "file_extension": ".py",
   "mimetype": "text/x-python",
   "name": "python",
   "nbconvert_exporter": "python",
   "pygments_lexer": "ipython3",
   "version": "3.7.3"
  }
 },
 "nbformat": 4,
 "nbformat_minor": 4
}
